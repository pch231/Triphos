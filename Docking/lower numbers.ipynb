{
 "cells": [
  {
   "cell_type": "code",
   "execution_count": 16,
   "id": "a9e03932",
   "metadata": {},
   "outputs": [
    {
     "name": "stdout",
     "output_type": "stream",
     "text": [
      "1 -13.460\n",
      "2 -12.660\n",
      "7 -12.030\n",
      "4 -11.690\n",
      "8 -11.640\n"
     ]
    }
   ],
   "source": [
    "def extract_lowest_negative_numbers_with_row(file_path, num_numbers):\n",
    "    try:\n",
    "        with open(file_path, 'r') as file:\n",
    "            rows_with_numbers = []\n",
    "            for line in file:\n",
    "                values = line.split()\n",
    "                negative_numbers = []\n",
    "                for value in values:\n",
    "                    try:\n",
    "                        number = float(value)\n",
    "                        if number < 0:\n",
    "                            negative_numbers.append(number)\n",
    "                    except ValueError:\n",
    "                        pass\n",
    "                \n",
    "                if negative_numbers:\n",
    "                    rows_with_numbers.append((negative_numbers, values))\n",
    "\n",
    "            rows_with_numbers.sort(key=lambda row: min(row[0]))\n",
    "\n",
    "            if rows_with_numbers:\n",
    "                lowest_rows = rows_with_numbers[:num_numbers]\n",
    "                return lowest_rows\n",
    "            else:\n",
    "                return None  # No valid negative numbers found in the file\n",
    "\n",
    "    except FileNotFoundError:\n",
    "        print(f\"The file '{file_path}' was not found.\")\n",
    "        return None\n",
    "    except Exception as e:\n",
    "        print(\"An error occurred:\", e)\n",
    "        return None\n",
    "\n",
    "file_path = 'dock.txt'  # Update this with the actual path of your text file\n",
    "num_lowest_numbers = 5  # Number of lowest negative numbers to extract\n",
    "\n",
    "lowest_negative_rows = extract_lowest_negative_numbers_with_row(file_path, num_lowest_numbers)\n",
    "if lowest_negative_rows is not None:\n",
    "    for row in lowest_negative_rows:\n",
    "        print(f\"{' '.join(row[1])}\")\n",
    "else:\n",
    "    print(\"No valid negative numbers were found in the file.\")"
   ]
  },
  {
   "cell_type": "code",
   "execution_count": null,
   "id": "45378e02",
   "metadata": {},
   "outputs": [],
   "source": []
  }
 ],
 "metadata": {
  "kernelspec": {
   "display_name": "pdb",
   "language": "python",
   "name": "pdb"
  },
  "language_info": {
   "codemirror_mode": {
    "name": "ipython",
    "version": 3
   },
   "file_extension": ".py",
   "mimetype": "text/x-python",
   "name": "python",
   "nbconvert_exporter": "python",
   "pygments_lexer": "ipython3",
   "version": "3.10.12"
  }
 },
 "nbformat": 4,
 "nbformat_minor": 5
}
